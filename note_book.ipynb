{
 "metadata": {
  "language_info": {
   "codemirror_mode": {
    "name": "ipython",
    "version": 3
   },
   "file_extension": ".py",
   "mimetype": "text/x-python",
   "name": "python",
   "nbconvert_exporter": "python",
   "pygments_lexer": "ipython3",
   "version": "3.8.5"
  },
  "orig_nbformat": 4,
  "kernelspec": {
   "name": "python3",
   "display_name": "Python 3.8.5  ('env': venv)"
  },
  "interpreter": {
   "hash": "3a1a6bdc479f10543675e8aac3827e6b0c985120b8227580d0dddaa94cf09547"
  }
 },
 "nbformat": 4,
 "nbformat_minor": 2,
 "cells": [
  {
   "cell_type": "code",
   "execution_count": 1,
   "metadata": {},
   "outputs": [],
   "source": [
    "SHARES = [\n",
    "    [\"Action-1\", 20, 5],\n",
    "    [\"Action-2\", 30, 10],\n",
    "    [\"Action-3\", 50, 15],\n",
    "    [\"Action-4\", 70, 17],\n",
    "    [\"Action-5\", 60, 17],\n",
    "    [\"Action-6\", 80, 25],\n",
    "    [\"Action-7\", 22, 7],\n",
    "    [\"Action-8\", 26, 11],\n",
    "    [\"Action-9\", 48, 13],\n",
    "    [\"Action-10\", 34, 27],\n",
    "    [\"Action-11\", 42, 17],\n",
    "    [\"Action-12\", 110, 9],\n",
    "    [\"Action-13\", 38, 23],\n",
    "    [\"Action-14\", 14, 1],\n",
    "    [\"Action-15\", 18, 3],\n",
    "    [\"Action-16\", 8, 8],\n",
    "    [\"Action-17\", 4, 12],\n",
    "    [\"Action-18\", 10, 14],\n",
    "    [\"Action-19\", 24, 21],\n",
    "    [\"Action-20\", 114, 18],\n",
    "]\n",
    "MAX_PRICE = 500\n"
   ]
  },
  {
   "cell_type": "code",
   "execution_count": 2,
   "metadata": {},
   "outputs": [],
   "source": [
    "def sorted_shares() -> list:\n",
    "    \"\"\"Function which allows to calculate and return\n",
    "    a list in the order of the most interesting action to the least\n",
    "\n",
    "    Returns:\n",
    "        sorted_shares (list): [description]\n",
    "    \"\"\"\n",
    "    shares = []\n",
    "    best_shares = []\n",
    "    for share in SHARES:\n",
    "        nb_shares = int(MAX_PRICE / share[1])\n",
    "        max_cost = nb_shares * share[1]\n",
    "        gain_after_two_year_by_shares = (share[1] / 100) * (share[2])\n",
    "        gain_with_500 = nb_shares * gain_after_two_year_by_shares\n",
    "        shares += share\n",
    "        shares.append(round(max_cost, 2))\n",
    "        shares.append(round(gain_with_500, 2))\n",
    "        shares.append(nb_shares)\n",
    "        best_shares.append(shares)\n",
    "        shares = []\n",
    "\n",
    "    sorted_shares = sorted(best_shares, key=itemgetter(2), reverse=True)\n",
    "    return sorted_shares"
   ]
  },
  {
   "cell_type": "code",
   "execution_count": null,
   "metadata": {},
   "outputs": [],
   "source": []
  }
 ]
}